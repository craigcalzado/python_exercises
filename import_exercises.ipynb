{
 "cells": [
  {
   "cell_type": "code",
   "execution_count": null,
   "id": "b75dd887",
   "metadata": {},
   "outputs": [],
   "source": [
    "## 1.a"
   ]
  },
  {
   "cell_type": "code",
   "execution_count": 1,
   "id": "d9483b39",
   "metadata": {},
   "outputs": [],
   "source": [
    "import function_exercises as fe"
   ]
  },
  {
   "cell_type": "code",
   "execution_count": 2,
   "id": "9738b5b5",
   "metadata": {},
   "outputs": [
    {
     "data": {
      "text/plain": [
       "False"
      ]
     },
     "execution_count": 2,
     "metadata": {},
     "output_type": "execute_result"
    }
   ],
   "source": [
    "fe.is_vowel(input('Enter a character:'))"
   ]
  },
  {
   "cell_type": "code",
   "execution_count": null,
   "id": "419d2a41",
   "metadata": {},
   "outputs": [],
   "source": [
    "#. c."
   ]
  },
  {
   "cell_type": "code",
   "execution_count": 3,
   "id": "36697cc0",
   "metadata": {},
   "outputs": [],
   "source": [
    "from function_exercises import get_letter_grade as get_letter_grade"
   ]
  },
  {
   "cell_type": "code",
   "execution_count": 9,
   "id": "a32db3a7",
   "metadata": {},
   "outputs": [
    {
     "data": {
      "text/plain": [
       "'B'"
      ]
     },
     "execution_count": 9,
     "metadata": {},
     "output_type": "execute_result"
    }
   ],
   "source": [
    "get_letter_grade(87)"
   ]
  },
  {
   "cell_type": "code",
   "execution_count": null,
   "id": "64b80975",
   "metadata": {},
   "outputs": [],
   "source": []
  }
 ],
 "metadata": {
  "kernelspec": {
   "display_name": "Python 3 (ipykernel)",
   "language": "python",
   "name": "python3"
  },
  "language_info": {
   "codemirror_mode": {
    "name": "ipython",
    "version": 3
   },
   "file_extension": ".py",
   "mimetype": "text/x-python",
   "name": "python",
   "nbconvert_exporter": "python",
   "pygments_lexer": "ipython3",
   "version": "3.9.7"
  }
 },
 "nbformat": 4,
 "nbformat_minor": 5
}
